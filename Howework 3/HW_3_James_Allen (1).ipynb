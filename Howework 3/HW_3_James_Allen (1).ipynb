{
 "cells": [
  {
   "cell_type": "code",
   "execution_count": null,
   "metadata": {
    "collapsed": false
   },
   "outputs": [],
   "source": [
    "Pkg.clone(\"https://github.com/mpf/Toms566.jl.git\")"
   ]
  },
  {
   "cell_type": "code",
   "execution_count": 2,
   "metadata": {
    "collapsed": false
   },
   "outputs": [
    {
     "data": {
      "text/plain": [
       "0.7790700756559702"
      ]
     },
     "execution_count": 2,
     "metadata": {},
     "output_type": "execute_result"
    }
   ],
   "source": [
    "using Toms566\n",
    "\n",
    "p=Problem(2)\n",
    "\n",
    "x0=p.x0 # starting point\n",
    "grad_x0=p.grd(p.x0) #gradient at point [x,x_2,x_3,...,x_n]\n",
    "hes_x0=p.hes(p.x0) #grad^2 (heshian) at point [x,x_2,x_3,...,x_n]\n",
    "obj_x_0=p.obj(p.x0) #objective value at point [x,x_2,x_3,...,x_n]"
   ]
  },
  {
   "cell_type": "code",
   "execution_count": 49,
   "metadata": {
    "collapsed": false
   },
   "outputs": [
    {
     "data": {
      "text/plain": [
       "(\n",
       "6x6 Array{Float64,2}:\n",
       " -0.23067    0.169093   0.180489    0.540161    0.674745   0.372247\n",
       " -0.236695   0.259715   0.495405   -0.457177   -0.244582   0.601885\n",
       "  0.366212  -0.798933   0.38575    -0.0900557   0.194071   0.18171 \n",
       " -0.47132   -0.451469  -0.536131    0.135403   -0.260077   0.447909\n",
       " -0.465321  -0.181795   0.534032    0.418187   -0.380833  -0.381212\n",
       "  0.563905   0.16967    0.0238239   0.545794   -0.484315   0.346703,\n",
       "\n",
       "[19.694655718347803,10.864394660741004,8.500168766773363,5.427530236008022,1.524208336049016,1.5189583620351783],\n",
       "6x6 Array{Float64,2}:\n",
       " -0.23067    0.169093  -0.180489    0.540161    0.674745  -0.372247\n",
       " -0.236695   0.259715  -0.495405   -0.457177   -0.244582  -0.601885\n",
       "  0.366212  -0.798933  -0.38575    -0.0900557   0.194071  -0.18171 \n",
       " -0.47132   -0.451469   0.536131    0.135403   -0.260077  -0.447909\n",
       " -0.465321  -0.181795  -0.534032    0.418187   -0.380833   0.381212\n",
       "  0.563905   0.16967   -0.0238239   0.545794   -0.484315  -0.346703)"
      ]
     },
     "execution_count": 49,
     "metadata": {},
     "output_type": "execute_result"
    }
   ],
   "source": [
    "hes_x0\n",
    "svd(hes_x0)"
   ]
  },
  {
   "cell_type": "code",
   "execution_count": 48,
   "metadata": {
    "collapsed": false
   },
   "outputs": [
    {
     "data": {
      "text/plain": [
       "6x6 Array{Float64,2}:\n",
       "  3.14874  -1.13981   -3.89039   2.01055   2.01055  -1.38066\n",
       " -1.13981   0.425374  -5.60088   2.53237  -1.13981  -3.74102\n",
       " -3.89039  -5.60088    8.36237   2.01055  -3.74102   2.01055\n",
       "  2.01055   2.53237    2.01055   4.04406   8.36237  -5.60088\n",
       "  2.01055  -1.13981   -3.74102   8.36237   3.14874  -3.89039\n",
       " -1.38066  -3.74102    2.01055  -5.60088  -3.89039   8.36237"
      ]
     },
     "execution_count": 48,
     "metadata": {},
     "output_type": "execute_result"
    }
   ],
   "source": [
    "(U, Σ, V)=svd(hes_x0);\n",
    "\n",
    "for k=1:length(Σ)\n",
    "    if inv(Σ[k])<0\n",
    "        Σ[k]=0;\n",
    "    end\n",
    "end\n",
    "\n",
    "Σ = diagm(Σ)\n",
    "U*Σ*V'\n"
   ]
  },
  {
   "cell_type": "code",
   "execution_count": 33,
   "metadata": {
    "collapsed": false
   },
   "outputs": [
    {
     "data": {
      "text/plain": [
       "3x3 Array{Float64,2}:\n",
       "   200.0   -1591.55     0.0 \n",
       " -1591.55    506.606  318.31\n",
       "     0.0     318.31   202.0 "
      ]
     },
     "execution_count": 33,
     "metadata": {},
     "output_type": "execute_result"
    }
   ],
   "source": [
    "hes_x0"
   ]
  },
  {
   "cell_type": "code",
   "execution_count": 12,
   "metadata": {
    "collapsed": false
   },
   "outputs": [
    {
     "data": {
      "text/plain": [
       "newtmin (generic function with 1 method)"
      ]
     },
     "execution_count": 12,
     "metadata": {},
     "output_type": "execute_result"
    }
   ],
   "source": [
    "function newtmin(obj, x0; max_iter=2500, tol=1e-6)\n",
    "    x=[]\n",
    "    g=[]\n",
    "    h=[]\n",
    "    iter_stop=0\n",
    "    alpha=1\n",
    "    \n",
    "        x=push!(x,x0);\n",
    "\n",
    "    for iter=1:max_iter\n",
    "        \n",
    "        neg_eig_test=0;\n",
    "        \n",
    "        g1 = obj.grd(x[end])\n",
    "        h1 = obj.hes(x[end])\n",
    "        \n",
    "        #make sure H is positive definate\n",
    "        #do this by taking the SVD, invert the sigma, then make all the values positve through some means, \n",
    "        #then set H_bar = U*sigma_inverse* V\n",
    "        \n",
    "        (U, Σ, V)=svd(h1);\n",
    "        \n",
    "        for k=1:length(Σ)\n",
    "            if Σ[k]<0\n",
    "                Σ[k]=0;\n",
    "                neg_eig_test=1;\n",
    "            end\n",
    "        end\n",
    "        \n",
    "        if neg_eig_test==1\n",
    "            Σ = diagm(Σ);\n",
    "            h1=U*Σ*V';\n",
    "            print(\"Negative eigenvalue encoutered in H\")\n",
    "        end\n",
    "        \n",
    "        \n",
    "        g=push!(g,g1);\n",
    "        h=push!(h,h1);\n",
    "        \n",
    "\n",
    "        \n",
    "        x=push!(x, x[end] + alpha*( inv(h1)*(-g1) )) #x(k+1)=x(k)+alpha*d(k), where d(k)= solution of (hd=-g)\n",
    "        \n",
    "        if norm(g[end])<tol || iter>2 && abs(norm(g[end])-norm(g[end-1])) < 1e-15\n",
    "            iter_stop=iter;\n",
    "            break\n",
    "        end\n",
    "    end\n",
    "\n",
    "    return (x[end],norm(g[end]),obj.obj(x[end]),iter_stop)\n",
    "\n",
    "end"
   ]
  },
  {
   "cell_type": "code",
   "execution_count": 27,
   "metadata": {
    "collapsed": false
   },
   "outputs": [
    {
     "name": "stdout",
     "output_type": "stream",
     "text": [
      " ** On entry to DLASCLS parameter number  4 had an illegal value\n",
      " ** On entry to DLASCLS parameter number  4 had an illegal value\n"
     ]
    },
    {
     "ename": "LoadError",
     "evalue": "LoadError: Base.LinAlg.LAPACKException(23)\nwhile loading In[27], in expression starting on line 3",
     "output_type": "error",
     "traceback": [
      "LoadError: Base.LinAlg.LAPACKException(23)\nwhile loading In[27], in expression starting on line 3",
      "",
      " in gesdd! at linalg/lapack.jl:1131",
      " in svdfact! at linalg/svd.jl:17",
      " in svdfact at linalg/svd.jl:23",
      " in newtmin at In[12]:21"
     ]
    }
   ],
   "source": [
    "p=Problem(18)\n",
    "\n",
    "newtmin(p,p.x0)"
   ]
  },
  {
   "cell_type": "code",
   "execution_count": null,
   "metadata": {
    "collapsed": true
   },
   "outputs": [],
   "source": [
    "# Problem #   x[end]\n",
    "# norm(g[end]),obj.obj(x[end]),iter_stop\n",
    "#\n",
    "#Note if iter_stop is 0 then a solution was not found. . . \n",
    "#------------------------------------------------------------------------------------------------------------------------------\n",
    "# Problem 9 (x[end],norm(g[end]),obj.obj(x[end]),iter_stop) **************DID NOT FIND SOLUTION**************\n",
    "# ************ERROR***************\n",
    "\n",
    "# Problem 10 (x[end],norm(g[end]),obj.obj(x[end]),iter_stop)\n",
    "#([1.0e6,2.0e-6],\n",
    "#1.7763568394019445e-9,0.0,740)\n",
    "\n",
    "# Problem 11 (x[end],norm(g[end]),obj.obj(x[end]),iter_stop) **************DID NOT FIND SOLUTION**************\n",
    "#************ERROR***************\n",
    "\n",
    "# Problem 12 (x[end],norm(g[end]),obj.obj(x[end]),iter_stop)\n",
    "#([-0.8203029592211489,11.180372142246291,-6.583308445312273],\n",
    "#8.528600282736342e-7,32.835000095286894,674)\n",
    "\n",
    "# Problem 13 (x[end],norm(g[end]),obj.obj(x[end]),iter_stop)\n",
    "#([-8.26522e-17,-2.25496e-15,-1.02607e-15,3.31861e-15,3.08293e-15,-9.44966e-16,2.54012e-15,-1.36046e-15,1.81935e-15,-1.50898e-16  …  -4.60169e-16,5.93169e-15,-5.30974e-15,1.76727e-15,4.74812e-15,-4.43165e-16,-5.37691e-15,-9.70829e-16,5.72889e-15,5.47033e-16],\n",
    "#2.9172960754798295e-9,0.0,13)\n",
    "\n",
    "# Problem 14 (x[end],norm(g[end]),obj.obj(x[end]),iter_stop) **************DID NOT FIND SOLUTION**************\n",
    "#214.1,-181.756,31214.1,-181.756,31214.1,1.0,1.0],\n",
    "#6.536145832960807e19,1.5147975697323924e24,0)\n",
    "\n",
    "# Problem 15 (x[end],norm(g[end]),obj.obj(x[end]),iter_stop) **************I think the exited due to gradient not changing by measurable amount**************\n",
    "#([-4.28776e33,9.42258e29,4.71129e29,-4.2872e33,-4.64417e33,6.41602e26,3.20801e26,-4.64383e33,-1.29277e27,7.59459e19  …  3.07952e8,-1.3898e27,-2.68654e29,2.65404e22,1.32702e22,-2.68654e29,6.28473e27,6.53901e15,1.08432e14,6.28473e27],\n",
    "#9.898366845755256e101,4.542742026847571e134,2215)\n",
    "\n",
    "# Problem 16 (x[end],norm(g[end]),obj.obj(x[end]),iter_stop)\n",
    "#([0.0,1.0],\n",
    "#0.0,14.203125,2)\n",
    "\n",
    "# Problem 17 (x[end],norm(g[end]),obj.obj(x[end]),iter_stop)\n",
    "#([-0.9679740249375894,0.9471391408178346,-0.969516310331595,0.9512476657923326],\n",
    "#2.209969838187114e-7,7.876967165176868,14)\n",
    "\n",
    "# Problem 18 (x[end],norm(g[end]),obj.obj(x[end]),iter_stop) **************DID NOT FIND SOLUTION**************\n",
    "#************ERROR***************"
   ]
  },
  {
   "cell_type": "markdown",
   "metadata": {
    "collapsed": false
   },
   "source": [
    "p=Problem(3)\n",
    "\n",
    "newtmin(p, p.x0)\n"
   ]
  },
  {
   "cell_type": "code",
   "execution_count": null,
   "metadata": {
    "collapsed": true
   },
   "outputs": [],
   "source": [
    "# Problem #   x[end]\n",
    "# norm(g[end]),obj.obj(x[end]),iter_stop\n",
    "#\n",
    "#Note if iter_stop is 0 then a solution was not found. . . \n",
    "#------------------------------------------------------------------------------------------------------------------------------\n",
    "\n",
    "# Problem 1 \n",
    "#([1.0,9.623971777241715e-23,1.5541301993193564e-22],\n",
    "#1.5031454551348873e-10,2.465620036363938e-44,34)\n",
    "\n",
    "# Problem 2 (x[end],norm(g[end]),obj.obj(x[end]),iter_stop) **************DID NOT FIND SOLUTION**************\n",
    "# ([110.58764417028193,-0.8911596223816917,-1.0451210209117733e6,-0.19746348605916325,33.426111922868564,489.55665776016485],\n",
    "#8.06573891610286,3.4729647629773392,0)\n",
    "\n",
    "# Problem 3 (x[end],norm(g[end]),obj.obj(x[end]),iter_stop)\n",
    "#([0.3989561378387567,1.0000190844878059,5.732690006101047e-20],\n",
    "#9.701953934166454e-11,1.1279327696190214e-8,3)\n",
    "\n",
    "# Problem 4 (x[end],norm(g[end]),obj.obj(x[end]),iter_stop)\n",
    "#([-0.00010003002051701595,-0.00010003002051701596],\n",
    "#2.087691668169917e-14,2.000000040020681,17)\n",
    "\n",
    "# Problem 5 (x[end],norm(g[end]),obj.obj(x[end]),iter_stop)\n",
    "# ([0.9999999999713464,10.00000000022855,1.0000000000180065],\n",
    "#4.4387809906411776e-7,5.0566242968258996e-23,9)\n",
    "\n",
    "# Problem 6 (x[end],norm(g[end]),obj.obj(x[end]),iter_stop) **************DID NOT FIND SOLUTION**************\n",
    "#([-875.363,50.9299,2.05697,-31.7899,91.1362,181.32,-10.4097,-233.889,-230.617,164.751  …  23.7955,30.728,-45.0972,-34.3397,-26.2373,-12.0429,65.18,-536.708,-40.4993,564.106];\n",
    "#19842.370946806597,1.657205138963716e6,0)\n",
    "\n",
    "# Problem 7 (x[end],norm(g[end]),obj.obj(x[end]),iter_stop) **************DID NOT FIND SOLUTION**************\n",
    "#([5.75736265923876e27,-2.0979027425589095e29,1.189759559553719e30,-2.182792565627064e30,8.352311691447432e29,1.0207851679422616e30,-4.998438851141209e29,4.415239152935261e28,-2.0835032082229147e29],\n",
    "#1.2430396861371629e84,8.199302649207593e111,0)\n",
    "\n",
    "# Problem 8 (x[end],norm(g[end]),obj.obj(x[end]),iter_stop)\n",
    "#([0.0645592,0.0645591,0.0645591,0.0645591,0.0645591,0.064559,0.064559,0.0645591,0.064559,0.0645591  …  0.0645591,0.0645591,0.0645591,0.0645591,0.0645591,0.0645591,0.0645591,0.0645591,0.0645591,0.0645591],\n",
    "#1.6181364996315994e-8,0.0005250350834856768,20)"
   ]
  },
  {
   "cell_type": "code",
   "execution_count": 14,
   "metadata": {
    "collapsed": false
   },
   "outputs": [],
   "source": [
    "for i = 1:10\n",
    "    x = [x; i]\n",
    "end"
   ]
  },
  {
   "cell_type": "code",
   "execution_count": 15,
   "metadata": {
    "collapsed": false,
    "scrolled": true
   },
   "outputs": [
    {
     "data": {
      "text/plain": [
       "1x10 Array{Any,2}:\n",
       " 1  2  3  4  5  6  7  8  9  10"
      ]
     },
     "execution_count": 15,
     "metadata": {},
     "output_type": "execute_result"
    }
   ],
   "source": [
    "x'"
   ]
  },
  {
   "cell_type": "code",
   "execution_count": 2,
   "metadata": {
    "collapsed": false
   },
   "outputs": [
    {
     "data": {
      "text/plain": [
       "100"
      ]
     },
     "execution_count": 2,
     "metadata": {},
     "output_type": "execute_result"
    }
   ],
   "source": [
    "100"
   ]
  },
  {
   "cell_type": "code",
   "execution_count": null,
   "metadata": {
    "collapsed": true
   },
   "outputs": [],
   "source": []
  }
 ],
 "metadata": {
  "kernelspec": {
   "display_name": "Julia 0.4.0-rc2",
   "language": "julia",
   "name": "julia-0.4"
  },
  "language_info": {
   "file_extension": ".jl",
   "mimetype": "application/julia",
   "name": "julia",
   "version": "0.4.0"
  }
 },
 "nbformat": 4,
 "nbformat_minor": 0
}
